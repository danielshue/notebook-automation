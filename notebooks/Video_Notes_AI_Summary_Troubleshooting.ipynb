{
 "cells": [
  {
   "cell_type": "markdown",
   "id": "93fba776",
   "metadata": {},
   "source": [
    "# Video Notes AI Summary Troubleshooting\n",
    "\n",
    "This notebook helps diagnose and troubleshoot issues with AI summary generation in the video notes processing workflow.\n",
    "\n",
    "## Problem Description\n",
    "You ran the following command but are not seeing AI summaries generated:\n",
    "```bash\n",
    "dotnet run -- video-notes -i \"C:\\Users\\danshue.REDMOND\\OneDrive\\Education\\MBA-Resources\\Value Chain Management\\Operations Management\\operations-management-organization-and-analysis\\01_course-orientation-operations-strategy\\Live Session\" --force --config \"D:\\source\\notebook-automation-csharp-migration\\config.json\" --debug\n",
    "```\n",
    "\n",
    "The markdown files are being created with metadata, but the AI summary section is missing.\n",
    "\n",
    "## Diagnostic Steps\n",
    "We'll systematically check each component that could affect AI summary generation."
   ]
  },
  {
   "cell_type": "markdown",
   "id": "ea1f529f",
   "metadata": {},
   "source": [
    "## 1. Setup Environment\n",
    "\n",
    "First, let's verify the .NET environment and project structure."
   ]
  },
  {
   "cell_type": "code",
   "execution_count": null,
   "id": "b7984749",
   "metadata": {
    "vscode": {
     "languageId": "powershell"
    }
   },
   "outputs": [],
   "source": [
    "# Check .NET version\n",
    "dotnet --version\n",
    "\n",
    "# Verify we're in the correct directory\n",
    "Get-Location\n",
    "\n",
    "# Check if the NotebookAutomation solution builds successfully\n",
    "Set-Location \"D:\\source\\notebook-automation-csharp-migration\"\n",
    "dotnet build src/c-sharp/NotebookAutomation.sln"
   ]
  },
  {
   "cell_type": "markdown",
   "id": "2734db25",
   "metadata": {},
   "source": [
    "## 2. Load and Analyze Configuration File\n",
    "\n",
    "Let's examine the configuration file to check AI-related settings."
   ]
  },
  {
   "cell_type": "code",
   "execution_count": null,
   "id": "ac073f27",
   "metadata": {
    "vscode": {
     "languageId": "powershell"
    }
   },
   "outputs": [],
   "source": [
    "# Load and display the configuration file\n",
    "$configPath = \"D:\\source\\notebook-automation-csharp-migration\\config.json\"\n",
    "if (Test-Path $configPath) {\n",
    "    Write-Host \"Configuration file exists at: $configPath\"\n",
    "    $config = Get-Content $configPath | ConvertFrom-Json\n",
    "    $config | ConvertTo-Json -Depth 10\n",
    "    \n",
    "    # Check for AI-related settings\n",
    "    Write-Host \"`n=== AI Configuration Check ===\"\n",
    "    if ($config.AI) {\n",
    "        Write-Host \"AI section found in config\"\n",
    "        $config.AI | ConvertTo-Json -Depth 5\n",
    "    } else {\n",
    "        Write-Host \"❌ No AI section found in configuration\"\n",
    "    }\n",
    "    \n",
    "    # Check for OpenAI API key\n",
    "    if ($config.AI.OpenAIApiKey) {\n",
    "        $keyLength = $config.AI.OpenAIApiKey.Length\n",
    "        Write-Host \"✅ OpenAI API Key found (length: $keyLength characters)\"\n",
    "    } elseif ($env:OPENAI_API_KEY) {\n",
    "        $keyLength = $env:OPENAI_API_KEY.Length\n",
    "        Write-Host \"✅ OpenAI API Key found in environment variable (length: $keyLength characters)\"\n",
    "    } else {\n",
    "        Write-Host \"❌ No OpenAI API Key found in config or environment\"\n",
    "    }\n",
    "} else {\n",
    "    Write-Host \"❌ Configuration file not found at: $configPath\"\n",
    "}"
   ]
  },
  {
   "cell_type": "markdown",
   "id": "5166e3ec",
   "metadata": {},
   "source": [
    "## 3. Parse Input Arguments and Analyze Directory\n",
    "\n",
    "Let's examine the input directory and verify video files and transcripts."
   ]
  },
  {
   "cell_type": "code",
   "execution_count": null,
   "id": "c54fefa9",
   "metadata": {
    "vscode": {
     "languageId": "powershell"
    }
   },
   "outputs": [],
   "source": [
    "# Analyze the input directory\n",
    "$inputPath = \"C:\\Users\\danshue.REDMOND\\OneDrive\\Education\\MBA-Resources\\Value Chain Management\\Operations Management\\operations-management-organization-and-analysis\\01_course-orientation-operations-strategy\\Live Session\"\n",
    "\n",
    "if (Test-Path $inputPath) {\n",
    "    Write-Host \"✅ Input directory exists: $inputPath\"\n",
    "    Write-Host \"`n=== Directory Contents ===\"\n",
    "    Get-ChildItem $inputPath -Recurse | Format-Table Name, Extension, Length, LastWriteTime\n",
    "    \n",
    "    # Check for video files\n",
    "    $videoExtensions = @(\".mp4\", \".mov\", \".avi\", \".mkv\", \".webm\", \".wmv\")\n",
    "    $videoFiles = Get-ChildItem $inputPath -Recurse | Where-Object { $videoExtensions -contains $_.Extension.ToLower() }\n",
    "    \n",
    "    Write-Host \"`n=== Video Files Found ===\"\n",
    "    if ($videoFiles.Count -gt 0) {\n",
    "        $videoFiles | ForEach-Object {\n",
    "            Write-Host \"📹 $($_.Name) ($([math]::Round($_.Length/1MB, 2)) MB)\"\n",
    "            \n",
    "            # Check for associated transcript files\n",
    "            $baseName = [System.IO.Path]::GetFileNameWithoutExtension($_.Name)\n",
    "            $transcriptTxt = Join-Path $_.DirectoryName \"$baseName.txt\"\n",
    "            $transcriptMd = Join-Path $_.DirectoryName \"$baseName.md\"\n",
    "            \n",
    "            if (Test-Path $transcriptTxt) {\n",
    "                Write-Host \"   📄 Transcript found: $([System.IO.Path]::GetFileName($transcriptTxt))\"\n",
    "            } elseif (Test-Path $transcriptMd) {\n",
    "                Write-Host \"   📄 Transcript found: $([System.IO.Path]::GetFileName($transcriptMd))\"\n",
    "            } else {\n",
    "                Write-Host \"   ❌ No transcript found for this video\"\n",
    "            }\n",
    "        }\n",
    "    } else {\n",
    "        Write-Host \"❌ No video files found in the directory\"\n",
    "    }\n",
    "    \n",
    "    # Check for any existing markdown notes\n",
    "    $markdownFiles = Get-ChildItem $inputPath -Recurse -Filter \"*.md\"\n",
    "    Write-Host \"`n=== Existing Markdown Files ===\"\n",
    "    if ($markdownFiles.Count -gt 0) {\n",
    "        $markdownFiles | ForEach-Object {\n",
    "            Write-Host \"📝 $($_.Name)\"\n",
    "        }\n",
    "    } else {\n",
    "        Write-Host \"No existing markdown files found\"\n",
    "    }\n",
    "} else {\n",
    "    Write-Host \"❌ Input directory not found: $inputPath\"\n",
    "}"
   ]
  },
  {
   "cell_type": "markdown",
   "id": "7f1f9a06",
   "metadata": {},
   "source": [
    "## 4. Test AI Summarizer Functionality\n",
    "\n",
    "Let's create a simple test to verify the AI Summarizer is working correctly."
   ]
  },
  {
   "cell_type": "code",
   "execution_count": null,
   "id": "08220a17",
   "metadata": {
    "vscode": {
     "languageId": "powershell"
    }
   },
   "outputs": [],
   "source": [
    "# Test the AI Summarizer with a simple test\n",
    "Set-Location \"D:\\source\\notebook-automation-csharp-migration\\src\\c-sharp\\NotebookAutomation.Cli\"\n",
    "\n",
    "Write-Host \"Testing AI Summarizer functionality...\"\n",
    "Write-Host \"This will attempt to generate a summary using the configured AI service.\"\n",
    "Write-Host \"\"\n",
    "\n",
    "# Create a temporary test text file\n",
    "$testText = @\"\n",
    "This is a test transcript for an operations management course. \n",
    "The session covers key concepts including supply chain optimization, \n",
    "inventory management strategies, and lean manufacturing principles. \n",
    "Students learn about process improvement methodologies and how to \n",
    "analyze operational efficiency in modern business environments.\n",
    "\"@\n",
    "\n",
    "$tempFile = [System.IO.Path]::GetTempFileName()\n",
    "$testText | Out-File -FilePath $tempFile -Encoding UTF8\n",
    "\n",
    "try {\n",
    "    # Run a simple summarization test using the CLI\n",
    "    dotnet run -- test-summarizer --input $tempFile --config \"D:\\source\\notebook-automation-csharp-migration\\config.json\" --debug\n",
    "} catch {\n",
    "    Write-Host \"❌ Error running AI summarizer test: $($_.Exception.Message)\"\n",
    "} finally {\n",
    "    # Clean up temp file\n",
    "    if (Test-Path $tempFile) {\n",
    "        Remove-Item $tempFile\n",
    "    }\n",
    "}"
   ]
  },
  {
   "cell_type": "markdown",
   "id": "985bd990",
   "metadata": {},
   "source": [
    "## 5. Debug Video Notes Command Execution\n",
    "\n",
    "Let's run the actual video notes command with verbose logging to see what's happening."
   ]
  },
  {
   "cell_type": "code",
   "execution_count": null,
   "id": "587ea698",
   "metadata": {
    "vscode": {
     "languageId": "powershell"
    }
   },
   "outputs": [],
   "source": [
    "# Run the video notes command with maximum verbosity\n",
    "Set-Location \"D:\\source\\notebook-automation-csharp-migration\\src\\c-sharp\\NotebookAutomation.Cli\"\n",
    "\n",
    "Write-Host \"Running video notes command with debug logging...\"\n",
    "Write-Host \"Command: dotnet run -- video-notes -i `\"C:\\Users\\danshue.REDMOND\\OneDrive\\Education\\MBA-Resources\\Value Chain Management\\Operations Management\\operations-management-organization-and-analysis\\01_course-orientation-operations-strategy\\Live Session`\" --force --config `\"D:\\source\\notebook-automation-csharp-migration\\config.json`\" --debug\"\n",
    "Write-Host \"\"\n",
    "\n",
    "try {\n",
    "    # Set environment variable for more detailed logging\n",
    "    $env:ASPNETCORE_ENVIRONMENT = \"Development\"\n",
    "    $env:Logging__LogLevel__Default = \"Debug\"\n",
    "    \n",
    "    # Run the command and capture output\n",
    "    dotnet run -- video-notes -i \"C:\\Users\\danshue.REDMOND\\OneDrive\\Education\\MBA-Resources\\Value Chain Management\\Operations Management\\operations-management-organization-and-analysis\\01_course-orientation-operations-strategy\\Live Session\" --force --config \"D:\\source\\notebook-automation-csharp-migration\\config.json\" --debug 2>&1\n",
    "} catch {\n",
    "    Write-Host \"❌ Error running video notes command: $($_.Exception.Message)\"\n",
    "}\n",
    "\n",
    "Write-Host \"`n=== Log Analysis ===\"\n",
    "# Check for any log files that might have been created\n",
    "$logPath = \"D:\\source\\notebook-automation-csharp-migration\\logs\"\n",
    "if (Test-Path $logPath) {\n",
    "    Write-Host \"Checking log files...\"\n",
    "    Get-ChildItem $logPath -Filter \"*.log\" | Sort-Object LastWriteTime -Descending | Select-Object -First 3 | ForEach-Object {\n",
    "        Write-Host \"📄 Latest log: $($_.Name) ($(Get-Date $_.LastWriteTime))\"\n",
    "        Write-Host \"Last 20 lines:\"\n",
    "        Get-Content $_.FullName | Select-Object -Last 20\n",
    "        Write-Host \"---\"\n",
    "    }\n",
    "} else {\n",
    "    Write-Host \"No log directory found at: $logPath\"\n",
    "}"
   ]
  },
  {
   "cell_type": "markdown",
   "id": "1da2cc12",
   "metadata": {},
   "source": [
    "## 6. Examine Generated Output\n",
    "\n",
    "Let's look at the markdown files that were created and analyze their content."
   ]
  }
 ],
 "metadata": {
  "language_info": {
   "name": "python"
  }
 },
 "nbformat": 4,
 "nbformat_minor": 5
}
